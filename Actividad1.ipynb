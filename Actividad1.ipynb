{
  "nbformat": 4,
  "nbformat_minor": 0,
  "metadata": {
    "colab": {
      "name": "Untitled2.ipynb",
      "provenance": [],
      "authorship_tag": "ABX9TyPwmRK/ET7GH/4WWUnPfcnJ",
      "include_colab_link": true
    },
    "kernelspec": {
      "name": "python3",
      "display_name": "Python 3"
    },
    "language_info": {
      "name": "python"
    }
  },
  "cells": [
    {
      "cell_type": "markdown",
      "metadata": {
        "id": "view-in-github",
        "colab_type": "text"
      },
      "source": [
        "<a href=\"https://colab.research.google.com/github/Regina25olan/IO/blob/main/Actividad1.ipynb\" target=\"_parent\"><img src=\"https://colab.research.google.com/assets/colab-badge.svg\" alt=\"Open In Colab\"/></a>"
      ]
    },
    {
      "cell_type": "code",
      "execution_count": 56,
      "metadata": {
        "id": "GP6WbyblaLbD"
      },
      "outputs": [],
      "source": [
        ""
      ]
    },
    {
      "cell_type": "markdown",
      "source": [
        "Resolución de sistema de ecuaciones"
      ],
      "metadata": {
        "id": "Zx5haiwdaMO5"
      }
    },
    {
      "cell_type": "code",
      "source": [
        "# Librerias\n",
        "import pandas as pd\n",
        "import numpy as np\n",
        "import matplotlib.pyplot as plt\n"
      ],
      "metadata": {
        "id": "sv_PBfaMaO_r"
      },
      "execution_count": 57,
      "outputs": []
    },
    {
      "cell_type": "markdown",
      "source": [
        "Primer ejercicio"
      ],
      "metadata": {
        "id": "x8XpZNq5bnwm"
      }
    },
    {
      "cell_type": "code",
      "source": [
        "x = np.array([50,600 ])"
      ],
      "metadata": {
        "id": "_24mKZ4PbdU6"
      },
      "execution_count": 58,
      "outputs": []
    },
    {
      "cell_type": "code",
      "source": [
        "y1 = -x + 600\n",
        "print(y1)"
      ],
      "metadata": {
        "colab": {
          "base_uri": "https://localhost:8080/"
        },
        "id": "7uUFEnSDcRiw",
        "outputId": "8ef45263-eba3-44cd-d3f9-a5c8e45a64d4"
      },
      "execution_count": 59,
      "outputs": [
        {
          "output_type": "stream",
          "name": "stdout",
          "text": [
            "[550   0]\n"
          ]
        }
      ]
    },
    {
      "cell_type": "code",
      "source": [
        "y2 = 2*x\n",
        "print(y2)"
      ],
      "metadata": {
        "colab": {
          "base_uri": "https://localhost:8080/"
        },
        "id": "DTqy8BBbcZ2t",
        "outputId": "377141b4-a3e1-49d1-8adf-38c992b19ac1"
      },
      "execution_count": 60,
      "outputs": [
        {
          "output_type": "stream",
          "name": "stdout",
          "text": [
            "[ 100 1200]\n"
          ]
        }
      ]
    },
    {
      "cell_type": "markdown",
      "source": [
        "Gráfico"
      ],
      "metadata": {
        "id": "ilU3jx3sceSv"
      }
    },
    {
      "cell_type": "code",
      "source": [
        "fig = plt.figure(figsize=(8,5))\n",
        "plt.plot(x,y1, lw=2, label= \"$y_{1}= -x + 600$\")\n",
        "plt.plot(x,y2, lw=2, label = \"$y_{2}= 2x$\")\n",
        "plt.title(\"Sistema de Ecuaciones\", fontsize=16)\n",
        "plt.xlabel(\"$x$\", fontsize=14)\n",
        "plt.ylabel(\"$y$\", fontsize=14)\n",
        "plt.grid(True)\n",
        "plt.legend()\n",
        "plt.savefig(\"grafico-01.png\" , format= \"PNG\",dpi=320)\n",
        "plt.show()\n"
      ],
      "metadata": {
        "colab": {
          "base_uri": "https://localhost:8080/",
          "height": 356
        },
        "id": "d5FJnGRXc3rs",
        "outputId": "887e0888-8f71-4ca6-d0b1-f43cb054bcf5"
      },
      "execution_count": 61,
      "outputs": [
        {
          "output_type": "display_data",
          "data": {
            "text/plain": [
              "<Figure size 576x360 with 1 Axes>"
            ],
            "image/png": "[encoded data removed]"
          },
          "metadata": {
            "needs_background": "light"
          }
        }
      ]
    },
    {
      "cell_type": "markdown",
      "source": [
        "segundo ejercicio"
      ],
      "metadata": {
        "id": "Lp5xeYUdGhBv"
      }
    },
    {
      "cell_type": "code",
      "source": [
        "x1 = np.array([0,5])\n",
        "print(x1)\n"
      ],
      "metadata": {
        "colab": {
          "base_uri": "https://localhost:8080/"
        },
        "id": "uOvbMzRXGl0q",
        "outputId": "33a44e31-0b1f-404f-8085-24e70e3ddcda"
      },
      "execution_count": 62,
      "outputs": [
        {
          "output_type": "stream",
          "name": "stdout",
          "text": [
            "[0 5]\n"
          ]
        }
      ]
    },
    {
      "cell_type": "code",
      "source": [
        "y3 = -2*x1 + 5\n",
        "print(y3)"
      ],
      "metadata": {
        "colab": {
          "base_uri": "https://localhost:8080/"
        },
        "id": "am7DlnKhHkJd",
        "outputId": "b10afe6b-b7ba-4f4d-e8bd-1b34783b94f2"
      },
      "execution_count": 63,
      "outputs": [
        {
          "output_type": "stream",
          "name": "stdout",
          "text": [
            "[ 5 -5]\n"
          ]
        }
      ]
    },
    {
      "cell_type": "code",
      "source": [
        "y4 = (3*x1-4)/2\n",
        "print(y4)"
      ],
      "metadata": {
        "colab": {
          "base_uri": "https://localhost:8080/"
        },
        "id": "Z80Mpr7QIO03",
        "outputId": "31fff930-4b55-428a-ed7b-157e337ad1a3"
      },
      "execution_count": 64,
      "outputs": [
        {
          "output_type": "stream",
          "name": "stdout",
          "text": [
            "[-2.   5.5]\n"
          ]
        }
      ]
    },
    {
      "cell_type": "code",
      "source": [
        "yticks = np.arange(-3, 6,1)\n",
        "print(len(yticks))\n",
        "print(yticks)"
      ],
      "metadata": {
        "colab": {
          "base_uri": "https://localhost:8080/"
        },
        "id": "QJln6ZZ1QPy_",
        "outputId": "2672c624-2a0e-491b-de2e-d120a41b9461"
      },
      "execution_count": 65,
      "outputs": [
        {
          "output_type": "stream",
          "name": "stdout",
          "text": [
            "9\n",
            "[-3 -2 -1  0  1  2  3  4  5]\n"
          ]
        }
      ]
    },
    {
      "cell_type": "markdown",
      "source": [
        "Gráfico"
      ],
      "metadata": {
        "id": "JMcJ_gSMIkF7"
      }
    },
    {
      "cell_type": "code",
      "source": [
        "fig = plt.figure(figsize=(10,5))\n",
        "plt.plot(x1,y3, color= \"indigo\", lw=2, label= \"$y_{1} = -2x+5$\")\n",
        "plt.plot(x1,y4, color= \"orchid\", lw=2, label= \"$y_{2} = (3x-4)/2$\" )\n",
        "\n",
        "\n",
        "yticks = np.arange(-3, 6,1)\n",
        "plt.yticks(yticks)\n",
        "plt.title (\"Sistema de Ecuaciones\")\n",
        "plt.xlabel (\"$x$\")\n",
        "plt.xlabel (\"$y$\")\n",
        "plt.grid(True)\n",
        "plt.legend()\n",
        "plt.show()"
      ],
      "metadata": {
        "colab": {
          "base_uri": "https://localhost:8080/",
          "height": 352
        },
        "id": "9DqM7nJFKPEQ",
        "outputId": "d7721a36-ca71-4a6e-aa50-f971bf44f74e"
      },
      "execution_count": 66,
      "outputs": [
        {
          "output_type": "display_data",
          "data": {
            "text/plain": [
              "<Figure size 720x360 with 1 Axes>"
            ],
            "image/png": "[encoded data removed]"
          },
          "metadata": {
            "needs_background": "light"
          }
        }
      ]
    }
  ]
}