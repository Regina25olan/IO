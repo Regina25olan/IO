{
  "nbformat": 4,
  "nbformat_minor": 0,
  "metadata": {
    "colab": {
      "name": "Untitled3.ipynb",
      "provenance": [],
      "authorship_tag": "ABX9TyPvd0VuIIgWohlYq1819pl3",
      "include_colab_link": true
    },
    "kernelspec": {
      "name": "python3",
      "display_name": "Python 3"
    },
    "language_info": {
      "name": "python"
    }
  },
  "cells": [
    {
      "cell_type": "markdown",
      "metadata": {
        "id": "view-in-github",
        "colab_type": "text"
      },
      "source": [
        "<a href=\"https://colab.research.google.com/github/Regina25olan/IO/blob/main/Untitled3.ipynb\" target=\"_parent\"><img src=\"https://colab.research.google.com/assets/colab-badge.svg\" alt=\"Open In Colab\"/></a>"
      ]
    },
    {
      "cell_type": "markdown",
      "source": [
        "Histograma\n"
      ],
      "metadata": {
        "id": "nkzbXUGnM1Wo"
      }
    },
    {
      "cell_type": "code",
      "execution_count": 2,
      "metadata": {
        "id": "3e8HN3AVMlCj"
      },
      "outputs": [],
      "source": [
        "import pandas as pd\n",
        "import numpy as np\n",
        "import matplotlib.pyplot as plt "
      ]
    },
    {
      "cell_type": "code",
      "source": [
        "data = pd.read_csv (\"BAHB.csv\", sep=\",\")"
      ],
      "metadata": {
        "id": "iw1GwkDLOp_H"
      },
      "execution_count": 3,
      "outputs": []
    },
    {
      "cell_type": "code",
      "source": [
        "data.head()"
      ],
      "metadata": {
        "colab": {
          "base_uri": "https://localhost:8080/",
          "height": 206
        },
        "id": "KAvub2s-PDta",
        "outputId": "448a658a-3411-4fb4-eeac-bf95fba72836"
      },
      "execution_count": 4,
      "outputs": [
        {
          "output_type": "execute_result",
          "data": {
            "text/plain": [
              "     azimuth  distancia_km   distancia_m      (D/8)      pt         st  \\\n",
              "0  333.94711     59.668006   59668.00552   7.458501     NaN   7.458501   \n",
              "1  154.83750    181.962734  181962.73360  22.745342     NaN  22.745342   \n",
              "2  155.00538    183.290582  183290.58160  22.911323     NaN  22.911323   \n",
              "3  301.73707    150.285082  150285.08230  18.785635  25.781  44.566635   \n",
              "4  302.95003    149.990156  149990.15590  18.748769   1.293  20.041769   \n",
              "\n",
              "    st(min) estacion  num  YEAR  MN  DAY  HR  MIN    SECS    LAT_N     LOG_W  \\\n",
              "0  0.124308     BAHB   47  2003   8   15   9   44  41.388  28.4596 -113.2922   \n",
              "1  0.379089     BAHB  107  2005   4   27   0   32  58.814  30.4312 -114.3545   \n",
              "2  0.381855     BAHB  111  2005   4   27   0   32  59.542  30.4441 -114.3553   \n",
              "3  0.742777     BAHB  276  2006   1    4   3   45   2.960  28.2360 -112.2500   \n",
              "4  0.334029     BAHB  279  2006   1    4   8   30  38.330  28.2130 -112.2700   \n",
              "\n",
              "   DEPTH   MAG  \n",
              "0   5.66  4.60  \n",
              "1   0.40  5.00  \n",
              "2   2.15  5.00  \n",
              "3   3.00  4.77  \n",
              "4   3.00  4.76  "
            ],
            "text/html": [
              "\n",
              "  <div id=\"df-4c26f584-9d06-4139-84dd-6978fb1c567a\">\n",
              "    <div class=\"colab-df-container\">\n",
              "      <div>\n",
              "<style scoped>\n",
              "    .dataframe tbody tr th:only-of-type {\n",
              "        vertical-align: middle;\n",
              "    }\n",
              "\n",
              "    .dataframe tbody tr th {\n",
              "        vertical-align: top;\n",
              "    }\n",
              "\n",
              "    .dataframe thead th {\n",
              "        text-align: right;\n",
              "    }\n",
              "</style>\n",
              "<table border=\"1\" class=\"dataframe\">\n",
              "  <thead>\n",
              "    <tr style=\"text-align: right;\">\n",
              "      <th></th>\n",
              "      <th>azimuth</th>\n",
              "      <th>distancia_km</th>\n",
              "      <th>distancia_m</th>\n",
              "      <th>(D/8)</th>\n",
              "      <th>pt</th>\n",
              "      <th>st</th>\n",
              "      <th>st(min)</th>\n",
              "      <th>estacion</th>\n",
              "      <th>num</th>\n",
              "      <th>YEAR</th>\n",
              "      <th>MN</th>\n",
              "      <th>DAY</th>\n",
              "      <th>HR</th>\n",
              "      <th>MIN</th>\n",
              "      <th>SECS</th>\n",
              "      <th>LAT_N</th>\n",
              "      <th>LOG_W</th>\n",
              "      <th>DEPTH</th>\n",
              "      <th>MAG</th>\n",
              "    </tr>\n",
              "  </thead>\n",
              "  <tbody>\n",
              "    <tr>\n",
              "      <th>0</th>\n",
              "      <td>333.94711</td>\n",
              "      <td>59.668006</td>\n",
              "      <td>59668.00552</td>\n",
              "      <td>7.458501</td>\n",
              "      <td>NaN</td>\n",
              "      <td>7.458501</td>\n",
              "      <td>0.124308</td>\n",
              "      <td>BAHB</td>\n",
              "      <td>47</td>\n",
              "      <td>2003</td>\n",
              "      <td>8</td>\n",
              "      <td>15</td>\n",
              "      <td>9</td>\n",
              "      <td>44</td>\n",
              "      <td>41.388</td>\n",
              "      <td>28.4596</td>\n",
              "      <td>-113.2922</td>\n",
              "      <td>5.66</td>\n",
              "      <td>4.60</td>\n",
              "    </tr>\n",
              "    <tr>\n",
              "      <th>1</th>\n",
              "      <td>154.83750</td>\n",
              "      <td>181.962734</td>\n",
              "      <td>181962.73360</td>\n",
              "      <td>22.745342</td>\n",
              "      <td>NaN</td>\n",
              "      <td>22.745342</td>\n",
              "      <td>0.379089</td>\n",
              "      <td>BAHB</td>\n",
              "      <td>107</td>\n",
              "      <td>2005</td>\n",
              "      <td>4</td>\n",
              "      <td>27</td>\n",
              "      <td>0</td>\n",
              "      <td>32</td>\n",
              "      <td>58.814</td>\n",
              "      <td>30.4312</td>\n",
              "      <td>-114.3545</td>\n",
              "      <td>0.40</td>\n",
              "      <td>5.00</td>\n",
              "    </tr>\n",
              "    <tr>\n",
              "      <th>2</th>\n",
              "      <td>155.00538</td>\n",
              "      <td>183.290582</td>\n",
              "      <td>183290.58160</td>\n",
              "      <td>22.911323</td>\n",
              "      <td>NaN</td>\n",
              "      <td>22.911323</td>\n",
              "      <td>0.381855</td>\n",
              "      <td>BAHB</td>\n",
              "      <td>111</td>\n",
              "      <td>2005</td>\n",
              "      <td>4</td>\n",
              "      <td>27</td>\n",
              "      <td>0</td>\n",
              "      <td>32</td>\n",
              "      <td>59.542</td>\n",
              "      <td>30.4441</td>\n",
              "      <td>-114.3553</td>\n",
              "      <td>2.15</td>\n",
              "      <td>5.00</td>\n",
              "    </tr>\n",
              "    <tr>\n",
              "      <th>3</th>\n",
              "      <td>301.73707</td>\n",
              "      <td>150.285082</td>\n",
              "      <td>150285.08230</td>\n",
              "      <td>18.785635</td>\n",
              "      <td>25.781</td>\n",
              "      <td>44.566635</td>\n",
              "      <td>0.742777</td>\n",
              "      <td>BAHB</td>\n",
              "      <td>276</td>\n",
              "      <td>2006</td>\n",
              "      <td>1</td>\n",
              "      <td>4</td>\n",
              "      <td>3</td>\n",
              "      <td>45</td>\n",
              "      <td>2.960</td>\n",
              "      <td>28.2360</td>\n",
              "      <td>-112.2500</td>\n",
              "      <td>3.00</td>\n",
              "      <td>4.77</td>\n",
              "    </tr>\n",
              "    <tr>\n",
              "      <th>4</th>\n",
              "      <td>302.95003</td>\n",
              "      <td>149.990156</td>\n",
              "      <td>149990.15590</td>\n",
              "      <td>18.748769</td>\n",
              "      <td>1.293</td>\n",
              "      <td>20.041769</td>\n",
              "      <td>0.334029</td>\n",
              "      <td>BAHB</td>\n",
              "      <td>279</td>\n",
              "      <td>2006</td>\n",
              "      <td>1</td>\n",
              "      <td>4</td>\n",
              "      <td>8</td>\n",
              "      <td>30</td>\n",
              "      <td>38.330</td>\n",
              "      <td>28.2130</td>\n",
              "      <td>-112.2700</td>\n",
              "      <td>3.00</td>\n",
              "      <td>4.76</td>\n",
              "    </tr>\n",
              "  </tbody>\n",
              "</table>\n",
              "</div>\n",
              "      <button class=\"colab-df-convert\" onclick=\"convertToInteractive('df-4c26f584-9d06-4139-84dd-6978fb1c567a')\"\n",
              "              title=\"Convert this dataframe to an interactive table.\"\n",
              "              style=\"display:none;\">\n",
              "        \n",
              "  <svg xmlns=\"http://www.w3.org/2000/svg\" height=\"24px\"viewBox=\"0 0 24 24\"\n",
              "       width=\"24px\">\n",
              "    <path d=\"M0 0h24v24H0V0z\" fill=\"none\"/>\n",
              "    <path d=\"M18.56 5.44l.94 2.06.94-2.06 2.06-.94-2.06-.94-.94-2.06-.94 2.06-2.06.94zm-11 1L8.5 8.5l.94-2.06 2.06-.94-2.06-.94L8.5 2.5l-.94 2.06-2.06.94zm10 10l.94 2.06.94-2.06 2.06-.94-2.06-.94-.94-2.06-.94 2.06-2.06.94z\"/><path d=\"M17.41 7.96l-1.37-1.37c-.4-.4-.92-.59-1.43-.59-.52 0-1.04.2-1.43.59L10.3 9.45l-7.72 7.72c-.78.78-.78 2.05 0 2.83L4 21.41c.39.39.9.59 1.41.59.51 0 1.02-.2 1.41-.59l7.78-7.78 2.81-2.81c.8-.78.8-2.07 0-2.86zM5.41 20L4 18.59l7.72-7.72 1.47 1.35L5.41 20z\"/>\n",
              "  </svg>\n",
              "      </button>\n",
              "      \n",
              "  <style>\n",
              "    .colab-df-container {\n",
              "      display:flex;\n",
              "      flex-wrap:wrap;\n",
              "      gap: 12px;\n",
              "    }\n",
              "\n",
              "    .colab-df-convert {\n",
              "      background-color: #E8F0FE;\n",
              "      border: none;\n",
              "      border-radius: 50%;\n",
              "      cursor: pointer;\n",
              "      display: none;\n",
              "      fill: #1967D2;\n",
              "      height: 32px;\n",
              "      padding: 0 0 0 0;\n",
              "      width: 32px;\n",
              "    }\n",
              "\n",
              "    .colab-df-convert:hover {\n",
              "      background-color: #E2EBFA;\n",
              "      box-shadow: 0px 1px 2px rgba(60, 64, 67, 0.3), 0px 1px 3px 1px rgba(60, 64, 67, 0.15);\n",
              "      fill: #174EA6;\n",
              "    }\n",
              "\n",
              "    [theme=dark] .colab-df-convert {\n",
              "      background-color: #3B4455;\n",
              "      fill: #D2E3FC;\n",
              "    }\n",
              "\n",
              "    [theme=dark] .colab-df-convert:hover {\n",
              "      background-color: #434B5C;\n",
              "      box-shadow: 0px 1px 3px 1px rgba(0, 0, 0, 0.15);\n",
              "      filter: drop-shadow(0px 1px 2px rgba(0, 0, 0, 0.3));\n",
              "      fill: #FFFFFF;\n",
              "    }\n",
              "  </style>\n",
              "\n",
              "      <script>\n",
              "        const buttonEl =\n",
              "          document.querySelector('#df-4c26f584-9d06-4139-84dd-6978fb1c567a button.colab-df-convert');\n",
              "        buttonEl.style.display =\n",
              "          google.colab.kernel.accessAllowed ? 'block' : 'none';\n",
              "\n",
              "        async function convertToInteractive(key) {\n",
              "          const element = document.querySelector('#df-4c26f584-9d06-4139-84dd-6978fb1c567a');\n",
              "          const dataTable =\n",
              "            await google.colab.kernel.invokeFunction('convertToInteractive',\n",
              "                                                     [key], {});\n",
              "          if (!dataTable) return;\n",
              "\n",
              "          const docLinkHtml = 'Like what you see? Visit the ' +\n",
              "            '<a target=\"_blank\" href=https://colab.research.google.com/notebooks/data_table.ipynb>data table notebook</a>'\n",
              "            + ' to learn more about interactive tables.';\n",
              "          element.innerHTML = '';\n",
              "          dataTable['output_type'] = 'display_data';\n",
              "          await google.colab.output.renderOutput(dataTable, element);\n",
              "          const docLink = document.createElement('div');\n",
              "          docLink.innerHTML = docLinkHtml;\n",
              "          element.appendChild(docLink);\n",
              "        }\n",
              "      </script>\n",
              "    </div>\n",
              "  </div>\n",
              "  "
            ]
          },
          "metadata": {},
          "execution_count": 4
        }
      ]
    },
    {
      "cell_type": "code",
      "source": [
        "data[\"azimuth\"]"
      ],
      "metadata": {
        "colab": {
          "base_uri": "https://localhost:8080/"
        },
        "id": "HM3tHx6wPlh_",
        "outputId": "945652da-db72-4191-be32-29bc654725a4"
      },
      "execution_count": 6,
      "outputs": [
        {
          "output_type": "execute_result",
          "data": {
            "text/plain": [
              "0     333.94711\n",
              "1     154.83750\n",
              "2     155.00538\n",
              "3     301.73707\n",
              "4     302.95003\n",
              "5     304.03044\n",
              "6     303.02262\n",
              "7     297.89150\n",
              "8     303.07901\n",
              "9     297.90296\n",
              "10    169.75535\n",
              "11    155.86955\n",
              "12    169.77011\n",
              "13    159.86777\n",
              "14    162.12282\n",
              "15    154.42787\n",
              "16    212.41117\n",
              "17    150.33380\n",
              "18    268.03473\n",
              "19    171.16978\n",
              "20    162.08690\n",
              "21    163.76753\n",
              "22    162.32121\n",
              "23    164.18690\n",
              "24    195.64653\n",
              "25    171.70395\n",
              "26    258.74688\n",
              "27    258.02688\n",
              "28    158.79858\n",
              "29    156.51285\n",
              "30    212.48766\n",
              "31    158.96813\n",
              "32    175.94831\n",
              "33    158.51717\n",
              "34    169.22067\n",
              "35    165.28906\n",
              "36    158.00283\n",
              "37    160.13247\n",
              "38    161.52862\n",
              "39    150.06531\n",
              "40    280.95001\n",
              "41    163.39861\n",
              "42    165.94151\n",
              "43    162.64210\n",
              "44    159.96837\n",
              "45    161.69269\n",
              "46    158.67722\n",
              "47    175.35849\n",
              "48    190.96280\n",
              "49    156.78095\n",
              "50    171.52596\n",
              "51    162.41178\n",
              "52    165.42048\n",
              "53    284.25885\n",
              "54    281.54516\n",
              "55    151.71007\n",
              "56    158.59484\n",
              "57    164.59793\n",
              "58    160.24338\n",
              "59    160.09308\n",
              "Name: azimuth, dtype: float64"
            ]
          },
          "metadata": {},
          "execution_count": 6
        }
      ]
    },
    {
      "cell_type": "code",
      "source": [
        "data.shape"
      ],
      "metadata": {
        "colab": {
          "base_uri": "https://localhost:8080/"
        },
        "id": "8TkMoQUPRKpr",
        "outputId": "64ccf430-ea0b-4bf4-d7e5-ecce34a1fbd9"
      },
      "execution_count": 7,
      "outputs": [
        {
          "output_type": "execute_result",
          "data": {
            "text/plain": [
              "(60, 19)"
            ]
          },
          "metadata": {},
          "execution_count": 7
        }
      ]
    },
    {
      "cell_type": "code",
      "source": [
        "fig = plt.figure(figsize = (6,4))\n",
        "\n",
        "plt.hist(data[\"MAG\"], 20, facecolor=\"darkgrey\", edgecolor=\"black\", linewidth=1.5)\n",
        "\n",
        "plt.xlabel (\"Magnitud\")\n",
        "plt.ylabel (\"Número de eventos\")\n",
        "plt.title(\"BAHB\")\n",
        "plt.savefig(\"histograma-BAHB1.png\", format=\"PNG\")"
      ],
      "metadata": {
        "colab": {
          "base_uri": "https://localhost:8080/",
          "height": 295
        },
        "id": "edKqvQ7yRUWK",
        "outputId": "455e1324-06b9-46b2-d97a-ebfdf48a3f4f"
      },
      "execution_count": 18,
      "outputs": [
        {
          "output_type": "display_data",
          "data": {
            "text/plain": [
              "<Figure size 432x288 with 1 Axes>"
            ],
            "image/png": "[encoded data removed]"
          },
          "metadata": {
            "needs_background": "light"
          }
        }
      ]
    },
    {
      "cell_type": "code",
      "source": [
        "fig = plt.figure(figsize=(10,5))\n",
        "plt.hist(data[\"distancia_km\"],20, facecolor=\"darkgrey\", edgecolor=\"black\", linewidth=\"1.5\")\n",
        "\n",
        "plt.xlabel(\"distancia [km]\")\n",
        "plt.ylabel(\"Número de eventos\")\n",
        "plt.title(\"BAHB\")\n",
        "plt.savefig(\"histograma-BAHB2.png\", format=\"PNG\")"
      ],
      "metadata": {
        "colab": {
          "base_uri": "https://localhost:8080/",
          "height": 350
        },
        "id": "JL6kO67kUZaj",
        "outputId": "595179b1-ff56-40c9-9a0c-3da57c6f894c"
      },
      "execution_count": 24,
      "outputs": [
        {
          "output_type": "display_data",
          "data": {
            "text/plain": [
              "<Figure size 720x360 with 1 Axes>"
            ],
            "image/png": "[encoded data removed]"
          },
          "metadata": {
            "needs_background": "light"
          }
        }
      ]
    },
    {
      "cell_type": "markdown",
      "source": [
        "Seleccionar un elemento de la base de datos(data)"
      ],
      "metadata": {
        "id": "Z4AYB1hoXeQ_"
      }
    },
    {
      "cell_type": "code",
      "source": [
        "data[\"distancia_km\"]"
      ],
      "metadata": {
        "id": "pC_KcbeIXuZo"
      },
      "execution_count": null,
      "outputs": []
    },
    {
      "cell_type": "code",
      "source": [
        "data.distancia_km"
      ],
      "metadata": {
        "id": "xQtaSKVPYBKp"
      },
      "execution_count": null,
      "outputs": []
    },
    {
      "cell_type": "markdown",
      "source": [
        "Seleccionar un renglón"
      ],
      "metadata": {
        "id": "HRr-CVMUYI8Y"
      }
    },
    {
      "cell_type": "code",
      "source": [
        "data[\"azimuth\"] [59]"
      ],
      "metadata": {
        "colab": {
          "base_uri": "https://localhost:8080/"
        },
        "id": "s1sLl5mFYNPO",
        "outputId": "3a4ca506-ef42-4350-8ec2-7b0d9b95baae"
      },
      "execution_count": 27,
      "outputs": [
        {
          "output_type": "execute_result",
          "data": {
            "text/plain": [
              "160.09308"
            ]
          },
          "metadata": {},
          "execution_count": 27
        }
      ]
    },
    {
      "cell_type": "markdown",
      "source": [
        "Seleccionar el renglón n iloc\n"
      ],
      "metadata": {
        "id": "BLLzPfCqZVxK"
      }
    },
    {
      "cell_type": "code",
      "source": [
        "data.iloc[0:5,0]"
      ],
      "metadata": {
        "colab": {
          "base_uri": "https://localhost:8080/"
        },
        "id": "-jh-mdycZcuw",
        "outputId": "916f1f6d-895d-4bd9-958b-4ee909d82147"
      },
      "execution_count": 31,
      "outputs": [
        {
          "output_type": "execute_result",
          "data": {
            "text/plain": [
              "0    333.94711\n",
              "1    154.83750\n",
              "2    155.00538\n",
              "3    301.73707\n",
              "4    302.95003\n",
              "Name: azimuth, dtype: float64"
            ]
          },
          "metadata": {},
          "execution_count": 31
        }
      ]
    },
    {
      "cell_type": "code",
      "source": [
        "data_1 = pd.read_csv(\"blood_pressure.txt\", skiprows=26)\n",
        "data_1.head()"
      ],
      "metadata": {
        "colab": {
          "base_uri": "https://localhost:8080/",
          "height": 206
        },
        "id": "sUxGGj2Gc9yf",
        "outputId": "530d5a60-1cc4-4b8d-c11c-4aaa7fddcc55"
      },
      "execution_count": 35,
      "outputs": [
        {
          "output_type": "execute_result",
          "data": {
            "text/plain": [
              "   39  144\n",
              "0  45  138\n",
              "1  47  145\n",
              "2  65  162\n",
              "3  46  142\n",
              "4  67  170"
            ],
            "text/html": [
              "\n",
              "  <div id=\"df-d6e3050f-feed-49c2-8de3-ead6bfefaa97\">\n",
              "    <div class=\"colab-df-container\">\n",
              "      <div>\n",
              "<style scoped>\n",
              "    .dataframe tbody tr th:only-of-type {\n",
              "        vertical-align: middle;\n",
              "    }\n",
              "\n",
              "    .dataframe tbody tr th {\n",
              "        vertical-align: top;\n",
              "    }\n",
              "\n",
              "    .dataframe thead th {\n",
              "        text-align: right;\n",
              "    }\n",
              "</style>\n",
              "<table border=\"1\" class=\"dataframe\">\n",
              "  <thead>\n",
              "    <tr style=\"text-align: right;\">\n",
              "      <th></th>\n",
              "      <th>39  144</th>\n",
              "    </tr>\n",
              "  </thead>\n",
              "  <tbody>\n",
              "    <tr>\n",
              "      <th>0</th>\n",
              "      <td>45  138</td>\n",
              "    </tr>\n",
              "    <tr>\n",
              "      <th>1</th>\n",
              "      <td>47  145</td>\n",
              "    </tr>\n",
              "    <tr>\n",
              "      <th>2</th>\n",
              "      <td>65  162</td>\n",
              "    </tr>\n",
              "    <tr>\n",
              "      <th>3</th>\n",
              "      <td>46  142</td>\n",
              "    </tr>\n",
              "    <tr>\n",
              "      <th>4</th>\n",
              "      <td>67  170</td>\n",
              "    </tr>\n",
              "  </tbody>\n",
              "</table>\n",
              "</div>\n",
              "      <button class=\"colab-df-convert\" onclick=\"convertToInteractive('df-d6e3050f-feed-49c2-8de3-ead6bfefaa97')\"\n",
              "              title=\"Convert this dataframe to an interactive table.\"\n",
              "              style=\"display:none;\">\n",
              "        \n",
              "  <svg xmlns=\"http://www.w3.org/2000/svg\" height=\"24px\"viewBox=\"0 0 24 24\"\n",
              "       width=\"24px\">\n",
              "    <path d=\"M0 0h24v24H0V0z\" fill=\"none\"/>\n",
              "    <path d=\"M18.56 5.44l.94 2.06.94-2.06 2.06-.94-2.06-.94-.94-2.06-.94 2.06-2.06.94zm-11 1L8.5 8.5l.94-2.06 2.06-.94-2.06-.94L8.5 2.5l-.94 2.06-2.06.94zm10 10l.94 2.06.94-2.06 2.06-.94-2.06-.94-.94-2.06-.94 2.06-2.06.94z\"/><path d=\"M17.41 7.96l-1.37-1.37c-.4-.4-.92-.59-1.43-.59-.52 0-1.04.2-1.43.59L10.3 9.45l-7.72 7.72c-.78.78-.78 2.05 0 2.83L4 21.41c.39.39.9.59 1.41.59.51 0 1.02-.2 1.41-.59l7.78-7.78 2.81-2.81c.8-.78.8-2.07 0-2.86zM5.41 20L4 18.59l7.72-7.72 1.47 1.35L5.41 20z\"/>\n",
              "  </svg>\n",
              "      </button>\n",
              "      \n",
              "  <style>\n",
              "    .colab-df-container {\n",
              "      display:flex;\n",
              "      flex-wrap:wrap;\n",
              "      gap: 12px;\n",
              "    }\n",
              "\n",
              "    .colab-df-convert {\n",
              "      background-color: #E8F0FE;\n",
              "      border: none;\n",
              "      border-radius: 50%;\n",
              "      cursor: pointer;\n",
              "      display: none;\n",
              "      fill: #1967D2;\n",
              "      height: 32px;\n",
              "      padding: 0 0 0 0;\n",
              "      width: 32px;\n",
              "    }\n",
              "\n",
              "    .colab-df-convert:hover {\n",
              "      background-color: #E2EBFA;\n",
              "      box-shadow: 0px 1px 2px rgba(60, 64, 67, 0.3), 0px 1px 3px 1px rgba(60, 64, 67, 0.15);\n",
              "      fill: #174EA6;\n",
              "    }\n",
              "\n",
              "    [theme=dark] .colab-df-convert {\n",
              "      background-color: #3B4455;\n",
              "      fill: #D2E3FC;\n",
              "    }\n",
              "\n",
              "    [theme=dark] .colab-df-convert:hover {\n",
              "      background-color: #434B5C;\n",
              "      box-shadow: 0px 1px 3px 1px rgba(0, 0, 0, 0.15);\n",
              "      filter: drop-shadow(0px 1px 2px rgba(0, 0, 0, 0.3));\n",
              "      fill: #FFFFFF;\n",
              "    }\n",
              "  </style>\n",
              "\n",
              "      <script>\n",
              "        const buttonEl =\n",
              "          document.querySelector('#df-d6e3050f-feed-49c2-8de3-ead6bfefaa97 button.colab-df-convert');\n",
              "        buttonEl.style.display =\n",
              "          google.colab.kernel.accessAllowed ? 'block' : 'none';\n",
              "\n",
              "        async function convertToInteractive(key) {\n",
              "          const element = document.querySelector('#df-d6e3050f-feed-49c2-8de3-ead6bfefaa97');\n",
              "          const dataTable =\n",
              "            await google.colab.kernel.invokeFunction('convertToInteractive',\n",
              "                                                     [key], {});\n",
              "          if (!dataTable) return;\n",
              "\n",
              "          const docLinkHtml = 'Like what you see? Visit the ' +\n",
              "            '<a target=\"_blank\" href=https://colab.research.google.com/notebooks/data_table.ipynb>data table notebook</a>'\n",
              "            + ' to learn more about interactive tables.';\n",
              "          element.innerHTML = '';\n",
              "          dataTable['output_type'] = 'display_data';\n",
              "          await google.colab.output.renderOutput(dataTable, element);\n",
              "          const docLink = document.createElement('div');\n",
              "          docLink.innerHTML = docLinkHtml;\n",
              "          element.appendChild(docLink);\n",
              "        }\n",
              "      </script>\n",
              "    </div>\n",
              "  </div>\n",
              "  "
            ]
          },
          "metadata": {},
          "execution_count": 35
        }
      ]
    }
  ]
}